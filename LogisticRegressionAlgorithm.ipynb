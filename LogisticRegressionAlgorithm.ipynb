{
 "cells": [
  {
   "cell_type": "markdown",
   "id": "d8c2ac54",
   "metadata": {},
   "source": [
    "# Covid-19 Prediction - Logistic Regression Algorithm \n",
    "\n",
    "Dataset is found from the website: https://www.kaggle.com/datasets/iamhungundji/covid19-symptoms-checker?select=Cleaned-Data.csv"
   ]
  },
  {
   "cell_type": "markdown",
   "id": "d79ac611",
   "metadata": {},
   "source": [
    "### Importing Libraries"
   ]
  },
  {
   "cell_type": "code",
   "execution_count": 7,
   "id": "a5fb91d2",
   "metadata": {},
   "outputs": [],
   "source": [
    "import matplotlib.pyplot as plt\n",
    "import numpy as np\n",
    "import pandas as pd\n",
    "\n",
    "from sklearn.linear_model import LogisticRegression\n",
    "from sklearn.model_selection import train_test_split\n"
   ]
  },
  {
   "cell_type": "markdown",
   "id": "6529186c",
   "metadata": {},
   "source": [
    "### Converting CSV File into a Dataframe"
   ]
  },
  {
   "cell_type": "code",
   "execution_count": 22,
   "id": "a1b742d4",
   "metadata": {},
   "outputs": [
    {
     "name": "stdout",
     "output_type": "stream",
     "text": [
      "   Breathing Problem  Fever  Dry Cough  Sore throat  Running Nose  Asthma  \\\n",
      "0                  1      1          1            1             1       0   \n",
      "1                  1      1          1            1             0       1   \n",
      "2                  1      1          1            1             1       1   \n",
      "3                  1      1          1            0             0       1   \n",
      "4                  1      1          1            1             1       0   \n",
      "\n",
      "   Chronic Lung Disease  Headache  Heart Disease  Diabetes  ...  Fatigue   \\\n",
      "0                     0         0              0         1  ...         1   \n",
      "1                     1         1              0         0  ...         1   \n",
      "2                     1         1              0         1  ...         1   \n",
      "3                     0         0              1         1  ...         0   \n",
      "4                     1         1              1         1  ...         0   \n",
      "\n",
      "   Gastrointestinal   Abroad travel  Contact with COVID Patient  \\\n",
      "0                  1              0                           1   \n",
      "1                  0              0                           0   \n",
      "2                  1              1                           0   \n",
      "3                  0              1                           0   \n",
      "4                  1              0                           1   \n",
      "\n",
      "   Attended Large Gathering  Visited Public Exposed Places  \\\n",
      "0                         0                              1   \n",
      "1                         1                              1   \n",
      "2                         0                              0   \n",
      "3                         1                              1   \n",
      "4                         0                              1   \n",
      "\n",
      "   Family working in Public Exposed Places  Wearing Masks  \\\n",
      "0                                        1              0   \n",
      "1                                        0              0   \n",
      "2                                        0              0   \n",
      "3                                        0              0   \n",
      "4                                        0              0   \n",
      "\n",
      "   Sanitization from Market  COVID-19  \n",
      "0                         0         1  \n",
      "1                         0         1  \n",
      "2                         0         1  \n",
      "3                         0         1  \n",
      "4                         0         1  \n",
      "\n",
      "[5 rows x 21 columns]\n"
     ]
    }
   ],
   "source": [
    "data = pd.read_csv(\"Covid Dataset.csv\")\n",
    "data = data.replace({'Yes':1,'No':0})\n",
    "print(data.head())"
   ]
  },
  {
   "cell_type": "markdown",
   "id": "24fdf686",
   "metadata": {},
   "source": [
    "### Analyzing Raw Data and Removing Features"
   ]
  },
  {
   "cell_type": "code",
   "execution_count": null,
   "id": "4f6069e7",
   "metadata": {},
   "outputs": [],
   "source": []
  },
  {
   "cell_type": "markdown",
   "id": "2cbf06d1",
   "metadata": {},
   "source": [
    "### Feature Selection"
   ]
  },
  {
   "cell_type": "code",
   "execution_count": null,
   "id": "6fcd50a7",
   "metadata": {},
   "outputs": [],
   "source": []
  }
 ],
 "metadata": {
  "kernelspec": {
   "display_name": "Python 3 (ipykernel)",
   "language": "python",
   "name": "python3"
  },
  "language_info": {
   "codemirror_mode": {
    "name": "ipython",
    "version": 3
   },
   "file_extension": ".py",
   "mimetype": "text/x-python",
   "name": "python",
   "nbconvert_exporter": "python",
   "pygments_lexer": "ipython3",
   "version": "3.7.4"
  }
 },
 "nbformat": 4,
 "nbformat_minor": 5
}
