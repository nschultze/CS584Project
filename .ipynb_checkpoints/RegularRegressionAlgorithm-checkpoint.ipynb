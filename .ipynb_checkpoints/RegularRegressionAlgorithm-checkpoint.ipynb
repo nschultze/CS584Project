{
 "cells": [
  {
   "cell_type": "markdown",
   "id": "063a596e",
   "metadata": {},
   "source": [
    "# Covid-19 Prediction - Logistic Regression Algorithm \n",
    "\n",
    "Dataset is found from the website: https://www.kaggle.com/datasets/hemanthhari/symptoms-and-covid-presence?resource=download."
   ]
  },
  {
   "cell_type": "markdown",
   "id": "32e3c27a",
   "metadata": {},
   "source": [
    "### Importing Libraries"
   ]
  },
  {
   "cell_type": "code",
   "execution_count": null,
   "id": "85a69440",
   "metadata": {},
   "outputs": [],
   "source": []
  },
  {
   "cell_type": "markdown",
   "id": "361ba0ea",
   "metadata": {},
   "source": [
    "### Converting CSV File Into a Dataframe"
   ]
  },
  {
   "cell_type": "code",
   "execution_count": null,
   "id": "f640f2b4",
   "metadata": {},
   "outputs": [],
   "source": []
  }
 ],
 "metadata": {
  "kernelspec": {
   "display_name": "Python 3",
   "language": "python",
   "name": "python3"
  },
  "language_info": {
   "codemirror_mode": {
    "name": "ipython",
    "version": 3
   },
   "file_extension": ".py",
   "mimetype": "text/x-python",
   "name": "python",
   "nbconvert_exporter": "python",
   "pygments_lexer": "ipython3",
   "version": "3.8.8"
  }
 },
 "nbformat": 4,
 "nbformat_minor": 5
}
